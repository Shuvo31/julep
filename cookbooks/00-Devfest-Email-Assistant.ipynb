{
 "cells": [
  {
   "cell_type": "code",
   "execution_count": 1,
   "metadata": {},
   "outputs": [
    {
     "name": "stdout",
     "output_type": "stream",
     "text": [
      "Requirement already satisfied: julep in /Library/Frameworks/Python.framework/Versions/3.12/lib/python3.12/site-packages (1.16.0)\n",
      "Requirement already satisfied: anyio<5,>=3.5.0 in /Library/Frameworks/Python.framework/Versions/3.12/lib/python3.12/site-packages (from julep) (4.6.0)\n",
      "Requirement already satisfied: distro<2,>=1.7.0 in /Library/Frameworks/Python.framework/Versions/3.12/lib/python3.12/site-packages (from julep) (1.9.0)\n",
      "Requirement already satisfied: httpx<1,>=0.23.0 in /Library/Frameworks/Python.framework/Versions/3.12/lib/python3.12/site-packages (from julep) (0.27.2)\n",
      "Requirement already satisfied: pydantic<3,>=1.9.0 in /Library/Frameworks/Python.framework/Versions/3.12/lib/python3.12/site-packages (from julep) (2.9.2)\n",
      "Requirement already satisfied: sniffio in /Library/Frameworks/Python.framework/Versions/3.12/lib/python3.12/site-packages (from julep) (1.3.1)\n",
      "Requirement already satisfied: typing-extensions<5,>=4.7 in /Library/Frameworks/Python.framework/Versions/3.12/lib/python3.12/site-packages (from julep) (4.12.2)\n",
      "Requirement already satisfied: idna>=2.8 in /Library/Frameworks/Python.framework/Versions/3.12/lib/python3.12/site-packages (from anyio<5,>=3.5.0->julep) (3.10)\n",
      "Requirement already satisfied: certifi in /Library/Frameworks/Python.framework/Versions/3.12/lib/python3.12/site-packages (from httpx<1,>=0.23.0->julep) (2024.8.30)\n",
      "Requirement already satisfied: httpcore==1.* in /Library/Frameworks/Python.framework/Versions/3.12/lib/python3.12/site-packages (from httpx<1,>=0.23.0->julep) (1.0.6)\n",
      "Requirement already satisfied: h11<0.15,>=0.13 in /Library/Frameworks/Python.framework/Versions/3.12/lib/python3.12/site-packages (from httpcore==1.*->httpx<1,>=0.23.0->julep) (0.14.0)\n",
      "Requirement already satisfied: annotated-types>=0.6.0 in /Library/Frameworks/Python.framework/Versions/3.12/lib/python3.12/site-packages (from pydantic<3,>=1.9.0->julep) (0.7.0)\n",
      "Requirement already satisfied: pydantic-core==2.23.4 in /Library/Frameworks/Python.framework/Versions/3.12/lib/python3.12/site-packages (from pydantic<3,>=1.9.0->julep) (2.23.4)\n"
     ]
    }
   ],
   "source": [
    "!pip install julep"
   ]
  },
  {
   "cell_type": "code",
   "execution_count": 2,
   "metadata": {},
   "outputs": [],
   "source": [
    "import os\n",
    "\n",
    "import yaml\n",
    "from julep import Julep\n",
    " \n",
    "api_key = os.getenv(\"JULEP_API_KEY\")\n",
    "\n",
    "\n",
    "julep = Julep(api_key=api_key, environment=\"dev\")"
   ]
  },
  {
   "cell_type": "code",
   "execution_count": 3,
   "metadata": {},
   "outputs": [
    {
     "name": "stdout",
     "output_type": "stream",
     "text": [
      "Agent created successfully!\n",
      "Agent ID: 2b61d5eb-e6a2-497d-9f3c-1d22edc03344\n",
      "Agent Name: Julep Email Assistant\n",
      "Agent About: You are an agent that handles emails for julep users. Julep is a platform for creating kick-ass AI agents.\n",
      "Agent Model: gpt-4o\n",
      "Agent Default Settings: DefaultSettings(frequency_penalty=0.0, length_penalty=1.0, min_p=0.01, presence_penalty=0.0, repetition_penalty=1.0, temperature=0.2, top_p=0.95)\n"
     ]
    }
   ],
   "source": [
    "# Create the agent with error handling\n",
    "try:\n",
    "    agent = julep.agents.create(\n",
    "        name=\"Julep Email Assistant\",\n",
    "        about=(\n",
    "            \"You are an agent that handles emails for julep users.\"\n",
    "            + \" Julep is a platform for creating kick-ass AI agents.\"\n",
    "        ),\n",
    "        model=\"gpt-4o\",\n",
    "        default_settings={\"temperature\": 0.2},\n",
    "    )\n",
    "    print(\"Agent created successfully!\")\n",
    "    print(f\"Agent ID: {agent.id}\")  # Print the created agent's ID\n",
    "\n",
    "    # Retrieve the full agent details using the ID\n",
    "    created_agent = julep.agents.get(agent.id)\n",
    "\n",
    "    # Display the agent's details\n",
    "    print(f\"Agent Name: {created_agent.name}\")\n",
    "    print(f\"Agent About: {created_agent.about}\")\n",
    "    print(f\"Agent Model: {created_agent.model}\")\n",
    "    print(f\"Agent Default Settings: {created_agent.default_settings}\")\n",
    "\n",
    "except Exception as e:\n",
    "    print(f\"Error creating or retrieving the agent: {e}\")\n"
   ]
  },
  {
   "cell_type": "code",
   "execution_count": 4,
   "metadata": {},
   "outputs": [
    {
     "data": {
      "text/plain": [
       "'2b61d5eb-e6a2-497d-9f3c-1d22edc03344'"
      ]
     },
     "execution_count": 4,
     "metadata": {},
     "output_type": "execute_result"
    }
   ],
   "source": [
    "agent.id"
   ]
  },
  {
   "cell_type": "code",
   "execution_count": 5,
   "metadata": {},
   "outputs": [],
   "source": [
    "mailgun_password = os.getenv(\"MAILGUN_PASSWORD\")\n",
    "\n",
    "task_def = yaml.safe_load(f\"\"\"\n",
    "name: Julep Email Assistant\n",
    "\n",
    "input_schema:\n",
    "  type: object\n",
    "  properties:\n",
    "    from:\n",
    "      type: string\n",
    "    to:\n",
    "      type: string\n",
    "    subject:\n",
    "      type: string\n",
    "    body:\n",
    "      type: string\n",
    "\n",
    "tools:\n",
    "- name: send_email\n",
    "  integration:\n",
    "    provider: email\n",
    "    setup:\n",
    "      host: smtp.mailgun.org\n",
    "      password: {mailgun_password}\n",
    "      port: 587\n",
    "      user: postmaster@email.julep.ai\n",
    "\n",
    "- name: search_docs\n",
    "  system:\n",
    "    resource: agent\n",
    "    subresource: doc\n",
    "    operation: search\n",
    "    \n",
    "main:\n",
    "- prompt: |-\n",
    "    You are {{{{ agent.name }}}}. {{{{ agent.about }}}}\n",
    "\n",
    "    A user with email address {{{{ _.from }}}} has sent the following inquiry:\n",
    "    ------\n",
    "      Subject: {{{{ _.subject }}}}\n",
    "\n",
    "      {{{{ _.body }}}}\n",
    "    ------\n",
    "\n",
    "    Can you generate a query to search the documentation based on this email?\n",
    "    Just respond with the query as is and nothing else.\n",
    "\n",
    "  unwrap: true\n",
    "\n",
    "- tool: search_docs\n",
    "  arguments:\n",
    "    agent_id: \"'{agent.id}'\"\n",
    "    text: _\n",
    "    \n",
    "- prompt: |-\n",
    "    You are {{{{ agent.name }}}}. {{{{ agent.about }}}}\n",
    "\n",
    "    A user with email address {{{{ inputs[0].from }}}} has sent the following inquiry:\n",
    "    ------\n",
    "      Subject: {{{{ inputs[0].subject }}}}\n",
    "\n",
    "      {{{{ inputs[0].body }}}}\n",
    "    ------\n",
    "\n",
    "    Here are some possibly relevant snippets from the julep documentation:\n",
    "    {{% for doc in _.docs %}}\n",
    "      {{% for snippet in doc.snippets %}}\n",
    "        {{{{ snippet.content }}}}\n",
    "      {{% endfor %}}\n",
    "    {{% endfor %}}\n",
    "    ========\n",
    "\n",
    "    Based on the above info, craft an email body to respond with as a json object.\n",
    "    The json object must have `subject` and `body` fields.\n",
    "  response_format:\n",
    "    type: json_object\n",
    "    \n",
    "  unwrap: true\n",
    "  \n",
    "- evaluate:\n",
    "    subject: \"load_json(_.split('```json')[1].split('```')[0])['subject']\"\n",
    "    body: \"load_json(_.split('```json')[1].split('```')[0])['body']\"\n",
    "    \n",
    "- tool: send_email\n",
    "  arguments:\n",
    "    body: _.body\n",
    "    from: \"'postmaster@email.julep.ai'\"\n",
    "    subject: _.subject\n",
    "    to: inputs[0]['from']\n",
    "\"\"\")"
   ]
  },
  {
   "cell_type": "code",
   "execution_count": 6,
   "metadata": {},
   "outputs": [],
   "source": [
    "task = julep.tasks.create(\n",
    "    agent_id=agent.id,\n",
    "    **task_def,\n",
    ")"
   ]
  },
  {
   "cell_type": "code",
   "execution_count": 7,
   "metadata": {},
   "outputs": [
    {
     "data": {
      "text/plain": [
       "'9a687c54-a152-4513-bd70-28a72c136cdf'"
      ]
     },
     "execution_count": 7,
     "metadata": {},
     "output_type": "execute_result"
    }
   ],
   "source": [
    "task.id"
   ]
  },
  {
   "cell_type": "code",
   "execution_count": 8,
   "metadata": {},
   "outputs": [],
   "source": [
    "execution = julep.executions.create(\n",
    "    task_id=task.id,\n",
    "    input={\"from\": \"diwank@julep.ai\", \"to\": \"help@agents.new\", \"subject\": \"what's up\", \"body\": \"sup\"},\n",
    ")"
   ]
  },
  {
   "cell_type": "code",
   "execution_count": 9,
   "metadata": {},
   "outputs": [
    {
     "data": {
      "text/plain": [
       "Execution(id='a214a3c4-1dae-4f9d-b31e-a2b449aa7983', created_at=datetime.datetime(2024, 10, 11, 14, 47, 16, 774619, tzinfo=datetime.timezone.utc), input={'body': 'sup', 'from': 'diwank@julep.ai', 'subject': \"what's up\", 'to': 'help@agents.new'}, status='running', task_id='9a687c54-a152-4513-bd70-28a72c136cdf', updated_at=datetime.datetime(2024, 10, 11, 14, 47, 20, 144994, tzinfo=datetime.timezone.utc), error=None, metadata={}, output=None)"
      ]
     },
     "execution_count": 9,
     "metadata": {},
     "output_type": "execute_result"
    }
   ],
   "source": [
    "julep.executions.get(execution.id)"
   ]
  },
  {
   "cell_type": "code",
   "execution_count": 10,
   "metadata": {},
   "outputs": [
    {
     "name": "stdout",
     "output_type": "stream",
     "text": [
      "Type:  init\n",
      "output:  {'body': 'sup', 'from': 'diwank@julep.ai', 'subject': \"what's up\", 'to': 'help@agents.new'}\n",
      "----------------------------------------------------------------------------------------------------\n",
      "Type:  step\n",
      "output:  \"what's up\" site:julep.ai/docs\n",
      "----------------------------------------------------------------------------------------------------\n",
      "Type:  step\n",
      "output:  {'docs': [], 'time': 0.00806879997253418}\n",
      "----------------------------------------------------------------------------------------------------\n",
      "Type:  step\n",
      "output:  ```json\n",
      "{\n",
      "  \"subject\": \"Hello!\",\n",
      "  \"body\": \"Hi there! How can I assist you today? If you have any questions or need help with Julep, feel free to let me know!\"\n",
      "}\n",
      "```\n",
      "----------------------------------------------------------------------------------------------------\n",
      "Type:  step\n",
      "output:  {'body': 'Hi there! How can I assist you today? If you have any questions or need help with Julep, feel free to let me know!', 'subject': 'Hello!'}\n",
      "----------------------------------------------------------------------------------------------------\n"
     ]
    }
   ],
   "source": [
    "execution_transitions = julep.executions.transitions.list(\n",
    "    execution_id=execution.id).items\n",
    "\n",
    "for transition in reversed(execution_transitions):\n",
    "    print(\"Type: \", transition.type)\n",
    "    print(\"output: \", transition.output)\n",
    "    print(\"-\" * 100)"
   ]
  }
 ],
 "metadata": {
  "kernelspec": {
   "display_name": "Python 3 (ipykernel)",
   "language": "python",
   "name": "python3"
  },
  "language_info": {
   "codemirror_mode": {
    "name": "ipython",
    "version": 3
   },
   "file_extension": ".py",
   "mimetype": "text/x-python",
   "name": "python",
   "nbconvert_exporter": "python",
   "pygments_lexer": "ipython3",
   "version": "3.12.3"
  }
 },
 "nbformat": 4,
 "nbformat_minor": 4
}
